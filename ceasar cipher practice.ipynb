{
 "cells": [
  {
   "cell_type": "code",
   "execution_count": 1,
   "metadata": {},
   "outputs": [
    {
     "name": "stdout",
     "output_type": "stream",
     "text": [
      "enter the message:hello\n",
      "3\n",
      "khoor\n"
     ]
    }
   ],
   "source": [
    "message = input('enter the message:')\n",
    "key = int(input(\"\"))\n",
    "alphabet = \" abcdefghijklmnopqrstuvwxyz\"\n",
    "encrypt = ''\n",
    "for i in message:\n",
    "    position = alphabet.find(i)\n",
    "    new_position = (position + key)%27\n",
    "    encrypt += alphabet[new_position]\n",
    "print(encrypt)"
   ]
  },
  {
   "cell_type": "code",
   "execution_count": null,
   "metadata": {},
   "outputs": [],
   "source": []
  }
 ],
 "metadata": {
  "kernelspec": {
   "display_name": "Python 3",
   "language": "python",
   "name": "python3"
  },
  "language_info": {
   "codemirror_mode": {
    "name": "ipython",
    "version": 3
   },
   "file_extension": ".py",
   "mimetype": "text/x-python",
   "name": "python",
   "nbconvert_exporter": "python",
   "pygments_lexer": "ipython3",
   "version": "3.7.3"
  }
 },
 "nbformat": 4,
 "nbformat_minor": 2
}
